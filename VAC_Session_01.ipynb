{
  "cells": [
    {
      "cell_type": "markdown",
      "metadata": {
        "id": "view-in-github",
        "colab_type": "text"
      },
      "source": [
        "<a href=\"https://colab.research.google.com/github/Ritesh1126/Machine_Learning_lab/blob/main/VAC_Session_01.ipynb\" target=\"_parent\"><img src=\"https://colab.research.google.com/assets/colab-badge.svg\" alt=\"Open In Colab\"/></a>"
      ]
    },
    {
      "cell_type": "code",
      "source": [
        "import tensorflow as tf   #-->  import kiya tensorflow ko , and keras ko\n",
        "\n",
        "import pandas as pd #--> importing libraries for help\n",
        "\n",
        "import matplotlib.pyplot as plt #--> whqat ye plotting k liye use kiye jane vali library hai\n",
        "\n",
        "print(tf.__version__)"
      ],
      "metadata": {
        "id": "cVlS2w5khWRw",
        "outputId": "f8de641f-9f61-45c3-fcaa-861fed123375",
        "colab": {
          "base_uri": "https://localhost:8080/"
        }
      },
      "execution_count": 1,
      "outputs": [
        {
          "output_type": "stream",
          "name": "stdout",
          "text": [
            "2.18.0\n"
          ]
        }
      ]
    }
  ],
  "metadata": {
    "colab": {
      "name": "Welcome To Colab",
      "toc_visible": true,
      "provenance": [],
      "include_colab_link": true
    },
    "kernelspec": {
      "display_name": "Python 3",
      "name": "python3"
    }
  },
  "nbformat": 4,
  "nbformat_minor": 0
}